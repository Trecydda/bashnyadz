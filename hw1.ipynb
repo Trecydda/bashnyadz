{
 "cells": [
  {
   "cell_type": "markdown",
   "metadata": {},
   "source": [
    "Задание 1"
   ]
  },
  {
   "cell_type": "code",
   "execution_count": 1,
   "metadata": {},
   "outputs": [
    {
     "name": "stdout",
     "output_type": "stream",
     "text": [
      "Requirement already satisfied: openpyxl in c:\\users\\михаил\\appdata\\local\\programs\\python\\python312\\lib\\site-packages (3.1.5)\n",
      "Requirement already satisfied: et-xmlfile in c:\\users\\михаил\\appdata\\local\\programs\\python\\python312\\lib\\site-packages (from openpyxl) (1.1.0)\n",
      "Requirement already satisfied: datetime in c:\\users\\михаил\\appdata\\local\\programs\\python\\python312\\lib\\site-packages (5.5)\n",
      "Requirement already satisfied: zope.interface in c:\\users\\михаил\\appdata\\local\\programs\\python\\python312\\lib\\site-packages (from datetime) (7.1.0)\n",
      "Requirement already satisfied: pytz in c:\\users\\михаил\\appdata\\local\\programs\\python\\python312\\lib\\site-packages (from datetime) (2024.1)\n",
      "Requirement already satisfied: setuptools in c:\\users\\михаил\\appdata\\local\\programs\\python\\python312\\lib\\site-packages (from zope.interface->datetime) (74.1.2)\n"
     ]
    }
   ],
   "source": [
    "import pandas as pd\n",
    "import numpy as np\n",
    "import matplotlib.pyplot as plt\n",
    "!pip install openpyxl\n",
    "!pip install datetime"
   ]
  },
  {
   "cell_type": "code",
   "execution_count": 2,
   "metadata": {},
   "outputs": [
    {
     "name": "stdout",
     "output_type": "stream",
     "text": [
      "            user_id          event_name             event_dt  duration_sec\n",
      "0      --0-b0cbb8-a  tutorial_completed  2020-06-08 13:46:07           951\n",
      "1      --014ca35_b7  tutorial_completed  2020-05-09 04:20:13          1143\n",
      "2      --0424774bcb  tutorial_completed  2020-05-30 07:23:05          3758\n",
      "3      --043682a1ad  tutorial_completed  2020-05-15 03:14:40          1326\n",
      "4      --05-26b0-6b  tutorial_completed  2020-05-20 13:07:08          2828\n",
      "...             ...                 ...                  ...           ...\n",
      "59852  fff68c81cb2f  tutorial_completed  2020-06-04 22:59:42          2578\n",
      "59853  fff7d81ca3_5  tutorial_completed  2020-05-31 18:55:50          2078\n",
      "59854  fff88bbb3_c8  tutorial_completed  2020-05-28 13:14:38          2544\n",
      "59855  fff97c4d3c74  tutorial_completed  2020-06-16 09:35:12          1783\n",
      "59856  fffa9419ccf6  tutorial_completed  2020-06-06 18:41:33          1186\n",
      "\n",
      "[59857 rows x 4 columns]\n"
     ]
    },
    {
     "data": {
      "text/html": [
       "<div>\n",
       "<style scoped>\n",
       "    .dataframe tbody tr th:only-of-type {\n",
       "        vertical-align: middle;\n",
       "    }\n",
       "\n",
       "    .dataframe tbody tr th {\n",
       "        vertical-align: top;\n",
       "    }\n",
       "\n",
       "    .dataframe thead th {\n",
       "        text-align: right;\n",
       "    }\n",
       "</style>\n",
       "<table border=\"1\" class=\"dataframe\">\n",
       "  <thead>\n",
       "    <tr style=\"text-align: right;\">\n",
       "      <th></th>\n",
       "      <th>user_id</th>\n",
       "      <th>region</th>\n",
       "      <th>device</th>\n",
       "      <th>channel</th>\n",
       "      <th>session_duration</th>\n",
       "      <th>session_start</th>\n",
       "    </tr>\n",
       "  </thead>\n",
       "  <tbody>\n",
       "    <tr>\n",
       "      <th>0</th>\n",
       "      <td>d35ad20dd45d</td>\n",
       "      <td>SEA</td>\n",
       "      <td>iPhone</td>\n",
       "      <td>GameAds</td>\n",
       "      <td>2589.186227</td>\n",
       "      <td>2020-04-01 17:51:25</td>\n",
       "    </tr>\n",
       "    <tr>\n",
       "      <th>1</th>\n",
       "      <td>ac4a113c52c_</td>\n",
       "      <td>CIS</td>\n",
       "      <td>iPhone</td>\n",
       "      <td>GameAds</td>\n",
       "      <td>1467.539334</td>\n",
       "      <td>2020-04-01 09:39:33</td>\n",
       "    </tr>\n",
       "    <tr>\n",
       "      <th>2</th>\n",
       "      <td>d0337d117cc8</td>\n",
       "      <td>CIS</td>\n",
       "      <td>iPhone</td>\n",
       "      <td>GameAds</td>\n",
       "      <td>3777.737508</td>\n",
       "      <td>2020-04-01 01:19:56</td>\n",
       "    </tr>\n",
       "    <tr>\n",
       "      <th>3</th>\n",
       "      <td>2f8c_262-_85</td>\n",
       "      <td>North America</td>\n",
       "      <td>iPhone</td>\n",
       "      <td>GameAds</td>\n",
       "      <td>3755.966201</td>\n",
       "      <td>2020-04-01 11:21:54</td>\n",
       "    </tr>\n",
       "    <tr>\n",
       "      <th>4</th>\n",
       "      <td>4b1-114-4692</td>\n",
       "      <td>Europe</td>\n",
       "      <td>iPhone</td>\n",
       "      <td>GameAds</td>\n",
       "      <td>2898.802314</td>\n",
       "      <td>2020-04-01 18:29:57</td>\n",
       "    </tr>\n",
       "    <tr>\n",
       "      <th>...</th>\n",
       "      <td>...</td>\n",
       "      <td>...</td>\n",
       "      <td>...</td>\n",
       "      <td>...</td>\n",
       "      <td>...</td>\n",
       "      <td>...</td>\n",
       "    </tr>\n",
       "    <tr>\n",
       "      <th>167885</th>\n",
       "      <td>f4436b_52dc_</td>\n",
       "      <td>CIS</td>\n",
       "      <td>Andoroid</td>\n",
       "      <td>BrainPlus</td>\n",
       "      <td>2775.695988</td>\n",
       "      <td>2020-06-30 15:14:56</td>\n",
       "    </tr>\n",
       "    <tr>\n",
       "      <th>167886</th>\n",
       "      <td>ad3-bc75a9fc</td>\n",
       "      <td>Europe</td>\n",
       "      <td>Andoroid</td>\n",
       "      <td>JetAds</td>\n",
       "      <td>1885.137209</td>\n",
       "      <td>2020-06-30 14:56:09</td>\n",
       "    </tr>\n",
       "    <tr>\n",
       "      <th>167887</th>\n",
       "      <td>a08d5af97-3d</td>\n",
       "      <td>Europe</td>\n",
       "      <td>Andoroid</td>\n",
       "      <td>BrainPlus</td>\n",
       "      <td>157.472441</td>\n",
       "      <td>2020-06-30 05:22:07</td>\n",
       "    </tr>\n",
       "    <tr>\n",
       "      <th>167888</th>\n",
       "      <td>-9_13acb52-7</td>\n",
       "      <td>Africa</td>\n",
       "      <td>Andoroid</td>\n",
       "      <td>BrainPlus</td>\n",
       "      <td>151.266928</td>\n",
       "      <td>2020-06-30 17:43:42</td>\n",
       "    </tr>\n",
       "    <tr>\n",
       "      <th>167889</th>\n",
       "      <td>-175c05_40d3</td>\n",
       "      <td>North America</td>\n",
       "      <td>Andoroid</td>\n",
       "      <td>BrainPlus</td>\n",
       "      <td>5052.781567</td>\n",
       "      <td>2020-06-30 11:38:15</td>\n",
       "    </tr>\n",
       "  </tbody>\n",
       "</table>\n",
       "<p>167890 rows × 6 columns</p>\n",
       "</div>"
      ],
      "text/plain": [
       "             user_id         region    device    channel  session_duration  \\\n",
       "0       d35ad20dd45d            SEA    iPhone    GameAds       2589.186227   \n",
       "1       ac4a113c52c_            CIS    iPhone    GameAds       1467.539334   \n",
       "2       d0337d117cc8            CIS    iPhone    GameAds       3777.737508   \n",
       "3       2f8c_262-_85  North America    iPhone    GameAds       3755.966201   \n",
       "4       4b1-114-4692         Europe    iPhone    GameAds       2898.802314   \n",
       "...              ...            ...       ...        ...               ...   \n",
       "167885  f4436b_52dc_            CIS  Andoroid  BrainPlus       2775.695988   \n",
       "167886  ad3-bc75a9fc         Europe  Andoroid     JetAds       1885.137209   \n",
       "167887  a08d5af97-3d         Europe  Andoroid  BrainPlus        157.472441   \n",
       "167888  -9_13acb52-7         Africa  Andoroid  BrainPlus        151.266928   \n",
       "167889  -175c05_40d3  North America  Andoroid  BrainPlus       5052.781567   \n",
       "\n",
       "             session_start  \n",
       "0      2020-04-01 17:51:25  \n",
       "1      2020-04-01 09:39:33  \n",
       "2      2020-04-01 01:19:56  \n",
       "3      2020-04-01 11:21:54  \n",
       "4      2020-04-01 18:29:57  \n",
       "...                    ...  \n",
       "167885 2020-06-30 15:14:56  \n",
       "167886 2020-06-30 14:56:09  \n",
       "167887 2020-06-30 05:22:07  \n",
       "167888 2020-06-30 17:43:42  \n",
       "167889 2020-06-30 11:38:15  \n",
       "\n",
       "[167890 rows x 6 columns]"
      ]
     },
     "execution_count": 2,
     "metadata": {},
     "output_type": "execute_result"
    }
   ],
   "source": [
    "tut = pd.read_csv('hw_lesson02_tutorial_completed.csv')#выводим наши файлы\n",
    "print(tut)\n",
    "plinfo = pd.read_excel('hw_lesson02_sessions.xlsx')\n",
    "plinfo"
   ]
  },
  {
   "cell_type": "markdown",
   "metadata": {},
   "source": [
    "Исследуем с помощью команд info и head"
   ]
  },
  {
   "cell_type": "code",
   "execution_count": 3,
   "metadata": {},
   "outputs": [
    {
     "data": {
      "text/plain": [
       "<bound method NDFrame.head of             user_id          event_name             event_dt  duration_sec\n",
       "0      --0-b0cbb8-a  tutorial_completed  2020-06-08 13:46:07           951\n",
       "1      --014ca35_b7  tutorial_completed  2020-05-09 04:20:13          1143\n",
       "2      --0424774bcb  tutorial_completed  2020-05-30 07:23:05          3758\n",
       "3      --043682a1ad  tutorial_completed  2020-05-15 03:14:40          1326\n",
       "4      --05-26b0-6b  tutorial_completed  2020-05-20 13:07:08          2828\n",
       "...             ...                 ...                  ...           ...\n",
       "59852  fff68c81cb2f  tutorial_completed  2020-06-04 22:59:42          2578\n",
       "59853  fff7d81ca3_5  tutorial_completed  2020-05-31 18:55:50          2078\n",
       "59854  fff88bbb3_c8  tutorial_completed  2020-05-28 13:14:38          2544\n",
       "59855  fff97c4d3c74  tutorial_completed  2020-06-16 09:35:12          1783\n",
       "59856  fffa9419ccf6  tutorial_completed  2020-06-06 18:41:33          1186\n",
       "\n",
       "[59857 rows x 4 columns]>"
      ]
     },
     "execution_count": 3,
     "metadata": {},
     "output_type": "execute_result"
    }
   ],
   "source": [
    "tut.info\n",
    "\n",
    "tut.head"
   ]
  },
  {
   "cell_type": "code",
   "execution_count": 4,
   "metadata": {},
   "outputs": [
    {
     "data": {
      "text/plain": [
       "<bound method NDFrame.head of              user_id         region    device    channel  session_duration  \\\n",
       "0       d35ad20dd45d            SEA    iPhone    GameAds       2589.186227   \n",
       "1       ac4a113c52c_            CIS    iPhone    GameAds       1467.539334   \n",
       "2       d0337d117cc8            CIS    iPhone    GameAds       3777.737508   \n",
       "3       2f8c_262-_85  North America    iPhone    GameAds       3755.966201   \n",
       "4       4b1-114-4692         Europe    iPhone    GameAds       2898.802314   \n",
       "...              ...            ...       ...        ...               ...   \n",
       "167885  f4436b_52dc_            CIS  Andoroid  BrainPlus       2775.695988   \n",
       "167886  ad3-bc75a9fc         Europe  Andoroid     JetAds       1885.137209   \n",
       "167887  a08d5af97-3d         Europe  Andoroid  BrainPlus        157.472441   \n",
       "167888  -9_13acb52-7         Africa  Andoroid  BrainPlus        151.266928   \n",
       "167889  -175c05_40d3  North America  Andoroid  BrainPlus       5052.781567   \n",
       "\n",
       "             session_start  \n",
       "0      2020-04-01 17:51:25  \n",
       "1      2020-04-01 09:39:33  \n",
       "2      2020-04-01 01:19:56  \n",
       "3      2020-04-01 11:21:54  \n",
       "4      2020-04-01 18:29:57  \n",
       "...                    ...  \n",
       "167885 2020-06-30 15:14:56  \n",
       "167886 2020-06-30 14:56:09  \n",
       "167887 2020-06-30 05:22:07  \n",
       "167888 2020-06-30 17:43:42  \n",
       "167889 2020-06-30 11:38:15  \n",
       "\n",
       "[167890 rows x 6 columns]>"
      ]
     },
     "execution_count": 4,
     "metadata": {},
     "output_type": "execute_result"
    }
   ],
   "source": [
    "plinfo.info\n",
    "plinfo.head"
   ]
  },
  {
   "cell_type": "code",
   "execution_count": 5,
   "metadata": {},
   "outputs": [
    {
     "name": "stdout",
     "output_type": "stream",
     "text": [
      "2020-06-30 23:59:45\n",
      "2020-06-30 23:54:40\n",
      "2020-04-01 00:00:23\n",
      "2020-04-01 00:04:01\n",
      "Покрывает временные промежутки:\n",
      "90 days 23:59:22\n",
      "90 days 23:50:39\n"
     ]
    }
   ],
   "source": [
    "plinfo['session_start'] = pd.to_datetime(plinfo['session_start'])\n",
    "tut['event_dt'] = pd.to_datetime(tut['event_dt'])\n",
    "print(max(plinfo['session_start']))\n",
    "print(max(tut['event_dt']))\n",
    "print(min(plinfo['session_start']))\n",
    "print(min(tut['event_dt']))\n",
    "\n",
    "print(\"Покрывает временные промежутки:\")\n",
    "print(max(plinfo['session_start']) - min(plinfo['session_start']))\n",
    "print(max(tut['event_dt']) - min(tut['event_dt']))"
   ]
  },
  {
   "cell_type": "markdown",
   "metadata": {},
   "source": [
    "Вывод: покрывает временной промежуток в 3 месяца, "
   ]
  },
  {
   "cell_type": "markdown",
   "metadata": {},
   "source": [
    "Задание 2"
   ]
  },
  {
   "cell_type": "code",
   "execution_count": 6,
   "metadata": {},
   "outputs": [
    {
     "name": "stdout",
     "output_type": "stream",
     "text": [
      "2020-05-17 20:38:12.269950464\n",
      "26 days 00:50:21.969783297\n",
      "2020-05-17 23:16:34\n",
      "\n",
      "2020-05-15 23:21:28.360358656\n",
      "26 days 12:25:00.270323128\n",
      "2020-05-15 12:33:49\n"
     ]
    }
   ],
   "source": [
    "#Среднее, медиана и среднеквадратичное\n",
    "\n",
    "print(plinfo['session_start'].mean())\n",
    "print(plinfo['session_start'].std())\n",
    "print(plinfo['session_start'].median())\n",
    "print(\"\")\n",
    "print(tut['event_dt'].mean())\n",
    "print(tut['event_dt'].std())\n",
    "print(tut['event_dt'].median())\n"
   ]
  },
  {
   "cell_type": "code",
   "execution_count": 7,
   "metadata": {},
   "outputs": [
    {
     "name": "stdout",
     "output_type": "stream",
     "text": [
      "30.132045553160367\n",
      "30.130765971597214\n",
      "20.83862560779046\n",
      "\n",
      "44.942355948343554\n",
      "27.197112054898664\n",
      "39.96666666666667\n"
     ]
    }
   ],
   "source": [
    "#Среднее, медиана и среднеквадратичноеn в минутах\n",
    "print(plinfo['session_duration'].mean()/60)\n",
    "print(plinfo['session_duration'].std()/60)\n",
    "print(plinfo['session_duration'].median()/60)\n",
    "print(\"\")\n",
    "print(tut['duration_sec'].mean()/60)\n",
    "print(tut['duration_sec'].std()/60)\n",
    "print(tut['duration_sec'].median()/60)"
   ]
  },
  {
   "cell_type": "markdown",
   "metadata": {},
   "source": [
    "Гистограммы для duration_sec и session_duration"
   ]
  },
  {
   "cell_type": "code",
   "execution_count": 8,
   "metadata": {},
   "outputs": [
    {
     "data": {
      "image/png": "[encoded data removed]",
      "text/plain": [
       "<Figure size 640x480 with 1 Axes>"
      ]
     },
     "metadata": {},
     "output_type": "display_data"
    }
   ],
   "source": [
    "# для duration_sec\n",
    "stattut = tut['duration_sec'].value_counts().reset_index()\n",
    "plt.hist(stattut['duration_sec'], bins=1000)\n",
    "stattut.columns = ['Число игроков', 'Время прохождения обучения']\n",
    "\n",
    "plt.show()"
   ]
  },
  {
   "cell_type": "code",
   "execution_count": 9,
   "metadata": {},
   "outputs": [
    {
     "data": {
      "image/png": "[encoded data removed]",
      "text/plain": [
       "<Figure size 640x480 with 1 Axes>"
      ]
     },
     "metadata": {},
     "output_type": "display_data"
    }
   ],
   "source": [
    "#для session_duration\n",
    "stat = plinfo['session_duration'].value_counts().reset_index()\n",
    "plt.hist(stat['session_duration'], bins=1000)\n",
    "stat.columns = ['Число игроков', 'Время прохождения']\n",
    "\n",
    "\n",
    "plt.show()"
   ]
  },
  {
   "cell_type": "markdown",
   "metadata": {},
   "source": [
    "Вывод: распределение нормальное"
   ]
  },
  {
   "cell_type": "markdown",
   "metadata": {},
   "source": [
    "Задание 3"
   ]
  },
  {
   "cell_type": "code",
   "execution_count": 10,
   "metadata": {},
   "outputs": [
    {
     "data": {
      "image/png": "[encoded data removed]",
      "text/plain": [
       "<Figure size 640x480 with 1 Axes>"
      ]
     },
     "metadata": {},
     "output_type": "display_data"
    },
    {
     "name": "stdout",
     "output_type": "stream",
     "text": [
      "8323.137208860211\n"
     ]
    }
   ],
   "source": [
    "plinfo.boxplot('session_duration', vert = False)\n",
    "\n",
    "plt.xlabel('Значение session_duration')\n",
    "plt.title('Усатый короб по session_duration')\n",
    "\n",
    "plt.show()\n",
    "\n",
    "print(plinfo['session_duration'].quantile(0.99))\n"
   ]
  },
  {
   "cell_type": "code",
   "execution_count": 11,
   "metadata": {},
   "outputs": [
    {
     "data": {
      "image/png": "[encoded data removed]",
      "text/plain": [
       "<Figure size 640x480 with 1 Axes>"
      ]
     },
     "metadata": {},
     "output_type": "display_data"
    },
    {
     "name": "stdout",
     "output_type": "stream",
     "text": [
      "7605.440000000002\n"
     ]
    }
   ],
   "source": [
    "\n",
    "tut.boxplot('duration_sec', vert = False)\n",
    "plt.xlabel('Значение duration_sec')\n",
    "plt.title('Усатый короб по duration_sec')\n",
    "plt.show()\n",
    "\n",
    "print(tut['duration_sec'].quantile(0.99))"
   ]
  },
  {
   "cell_type": "markdown",
   "metadata": {},
   "source": [
    "Вывод: много выбросов, "
   ]
  },
  {
   "cell_type": "markdown",
   "metadata": {},
   "source": [
    "Задание 4"
   ]
  },
  {
   "cell_type": "code",
   "execution_count": 12,
   "metadata": {},
   "outputs": [
    {
     "data": {
      "text/plain": [
       "Text(0, 0.5, 'Count')"
      ]
     },
     "execution_count": 12,
     "metadata": {},
     "output_type": "execute_result"
    },
    {
     "data": {
      "image/png": "[encoded data removed]",
      "text/plain": [
       "<Figure size 640x480 with 1 Axes>"
      ]
     },
     "metadata": {},
     "output_type": "display_data"
    }
   ],
   "source": [
    "toptut = tut['duration_sec'].median() + 3 * tut['duration_sec'].std()\n",
    "bottut = tut['duration_sec'].median() - 3 * tut['duration_sec'].std()\n",
    "\n",
    "topplinfo = plinfo['session_duration'].median() + 3 * plinfo['session_duration'].std()\n",
    "botplinfo = plinfo['session_duration'].median() - 3 * plinfo['session_duration'].std()\n",
    "\n",
    "notrashtut = tut[(tut['duration_sec'] >= bottut) & (tut['duration_sec'] <= toptut)]\n",
    "notrashplinfo = plinfo[(plinfo['session_duration'] >= botplinfo) & (plinfo['session_duration'] <= topplinfo)]\n",
    "\n",
    "# Подсчитываем количество уникальных значений 'duration_sec' и получаем значения для оси Y\n",
    "counts = notrashtut['duration_sec'].value_counts()\n",
    "\n",
    "# Столбчатая диаграмма\n",
    "plt.bar(counts.index, counts.values, color='skyblue')\n",
    "plt.xlabel('Duration (sec)')\n",
    "plt.ylabel('Count')"
   ]
  },
  {
   "cell_type": "code",
   "execution_count": 13,
   "metadata": {},
   "outputs": [],
   "source": [
    "#сохраняем\n",
    "notrashtut.to_csv('tutorialclowns')\n",
    "notrashplinfo.to_csv('playerinfoclowns')"
   ]
  },
  {
   "cell_type": "markdown",
   "metadata": {},
   "source": [
    "Вывод: распределение нормальное"
   ]
  },
  {
   "cell_type": "markdown",
   "metadata": {},
   "source": [
    "Задание 5"
   ]
  },
  {
   "cell_type": "code",
   "execution_count": 14,
   "metadata": {},
   "outputs": [
    {
     "data": {
      "image/png": "[encoded data removed]",
      "text/plain": [
       "<Figure size 640x480 with 1 Axes>"
      ]
     },
     "metadata": {},
     "output_type": "display_data"
    },
    {
     "data": {
      "text/plain": [
       "<Axes: >"
      ]
     },
     "execution_count": 14,
     "metadata": {},
     "output_type": "execute_result"
    },
    {
     "data": {
      "image/png": "[encoded data removed]",
      "text/plain": [
       "<Figure size 640x480 with 1 Axes>"
      ]
     },
     "metadata": {},
     "output_type": "display_data"
    }
   ],
   "source": [
    "def filter_outliers(df, clmn, perc):\n",
    "    \n",
    "    new = df.query(clmn + '<' + str(df[str(clmn)].quantile(perc)) )\n",
    "    return new\n",
    "\n",
    "filter_outliers(plinfo, 'session_duration', 0.95).boxplot('session_duration', vert = False)\n",
    "plt.show()\n",
    "filter_outliers(tut, 'duration_sec', 0.95).boxplot('duration_sec', vert = False)\n",
    "\n"
   ]
  }
 ],
 "metadata": {
  "kernelspec": {
   "display_name": "Python 3",
   "language": "python",
   "name": "python3"
  },
  "language_info": {
   "codemirror_mode": {
    "name": "ipython",
    "version": 3
   },
   "file_extension": ".py",
   "mimetype": "text/x-python",
   "name": "python",
   "nbconvert_exporter": "python",
   "pygments_lexer": "ipython3",
   "version": "3.12.6"
  }
 },
 "nbformat": 4,
 "nbformat_minor": 2
}
