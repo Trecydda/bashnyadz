{
 "cells": [
  {
   "cell_type": "code",
   "execution_count": 26,
   "metadata": {},
   "outputs": [
    {
     "name": "stdout",
     "output_type": "stream",
     "text": [
      "Башня — инженерное сооружение, отличающееся значительным преобладанием высоты над стороной или диаметром основания. Башни могут быть отдельно стоящими или соединёнными с другим зданием или стеной. Ствол башни может быть сплошным (у каменных и железобетонных конструкций) или сквозным, а в сечении круглым, квадратным, многоугольным, встречаются также сечения других форм.\n"
     ]
    }
   ],
   "source": [
    "import requests\n",
    "from bs4 import BeautifulSoup as bs\n",
    "url = 'https://ru.wikipedia.org/wiki/%D0%91%D0%B0%D1%88%D0%BD%D1%8F'\n",
    "response = requests.get(url)\n",
    "if response.status_code == 200:\n",
    "    soup = bs(response.text, 'html.parser')\n",
    "    headers = soup.find_all(['p', \"b\"])\n",
    "    for ind, headers in enumerate(headers, start = 1):\n",
    "        header_text = headers.text.strip()\n",
    "        if ind ==1:\n",
    "            new_text = header_text\n",
    "else:\n",
    "    print(\"Error, status code:\", response.status_code)\n",
    "new_text = new_text.replace(\"[1]\", '',).strip()\n",
    "new_text = new_text.replace(\"[2]\", '',).strip()\n",
    "new_text = new_text.replace(\"[3]\", '',).strip()\n",
    "new_text = new_text.replace(\"а́\", 'а',).strip()\n",
    "print(new_text)\n",
    "\n"
   ]
  }
 ],
 "metadata": {
  "kernelspec": {
   "display_name": "Python 3",
   "language": "python",
   "name": "python3"
  },
  "language_info": {
   "codemirror_mode": {
    "name": "ipython",
    "version": 3
   },
   "file_extension": ".py",
   "mimetype": "text/x-python",
   "name": "python",
   "nbconvert_exporter": "python",
   "pygments_lexer": "ipython3",
   "version": "3.12.6"
  }
 },
 "nbformat": 4,
 "nbformat_minor": 2
}
